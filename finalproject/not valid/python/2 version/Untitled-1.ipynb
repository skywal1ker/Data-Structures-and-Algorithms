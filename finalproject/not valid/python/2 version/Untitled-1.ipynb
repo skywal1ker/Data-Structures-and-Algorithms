{
 "cells": [
  {
   "cell_type": "code",
   "execution_count": 5,
   "metadata": {},
   "outputs": [],
   "source": [
    "from queue import PriorityQueue"
   ]
  },
  {
   "cell_type": "code",
   "execution_count": 6,
   "metadata": {},
   "outputs": [],
   "source": [
    "class Process:\n",
    "    def __init__(self, id, pr, duration, arrival_time):\n",
    "        self.id = id\n",
    "        self.pr = pr\n",
    "        self.duration = duration\n",
    "        self.arrival_time = arrival_time\n",
    "\n",
    "    def __str__(self):\n",
    "        return f\"Id = {self.id}, priority = {self.pr}, duration = {self.duration}, arrival time = {self.arrival_time}\"\n",
    "\n",
    "    def get_id(self):\n",
    "        return self.id\n",
    "\n",
    "    def get_pr(self):\n",
    "        return self.pr\n",
    "\n",
    "    def get_duration(self):\n",
    "        return self.duration\n",
    "\n",
    "    def get_arrival_time(self):\n",
    "        return self.arrival_time"
   ]
  },
  {
   "cell_type": "code",
   "execution_count": 7,
   "metadata": {},
   "outputs": [],
   "source": [
    "row_array = []\n",
    "D = []"
   ]
  },
  {
   "cell_type": "code",
   "execution_count": 8,
   "metadata": {},
   "outputs": [
    {
     "name": "stdout",
     "output_type": "stream",
     "text": [
      "[1, 4, 25, 26]\n",
      "[2, 3, 15, 10]\n",
      "[3, 1, 17, 65]\n",
      "[4, 3, 17, 17]\n",
      "[5, 1, 9, 39]\n",
      "[6, 6, 14, 125]\n",
      "[7, 5, 18, 30]\n",
      "[8, 6, 18, 25]\n",
      "[9, 5, 16, 52]\n",
      "[10, 5, 20, 20]\n"
     ]
    }
   ],
   "source": [
    "for line in open(\"qwer.txt\"):\n",
    "    line = [int(item) for item in line.split()]\n",
    "    row_array.append(line)\n",
    "    print(line)\n",
    "\n"
   ]
  },
  {
   "cell_type": "code",
   "execution_count": 9,
   "metadata": {},
   "outputs": [],
   "source": [
    "for x in range(0, len(row_array)):\n",
    "    prsx = Process(row_array[x][0], row_array[x][1], row_array[x][2], row_array[x][3])\n",
    "    # print(prsx)\n",
    "    D.append(prsx)\n"
   ]
  },
  {
   "cell_type": "code",
   "execution_count": 10,
   "metadata": {},
   "outputs": [],
   "source": [
    "running = False\n",
    "Q = PriorityQueue()\n",
    "P = Process(0, 0, 0, 0)\n",
    "running_P = Process(0, 0, 0, 0)\n",
    "current_time = 0\n",
    "wait_time = 0\n",
    "average_wait_time = 0\n",
    "end_time = 0\n",
    "earliest = 0\n",
    "earliestIndex = 0"
   ]
  },
  {
   "cell_type": "code",
   "execution_count": 11,
   "metadata": {},
   "outputs": [],
   "source": [
    "while len(D) != 0:\n",
    "    for i in range(0, len(D)):\n",
    "        if earliest == 0 or earliest > D[i].get_arrival_time():\n",
    "            earliest = D[i].get_arrival_time()\n",
    "            earliestIndex = i\n",
    "            P = D[earliestIndex]\n",
    "\n",
    "    if P.get_arrival_time() <= current_time:\n",
    "        Q.put(P)\n",
    "        D.pop(earliestIndex)\n",
    "\n",
    "    if Q.not_empty and running is False:\n",
    "        running_P = Q.get()\n",
    "        waitTime = current_time - running_P.get_arrival_time()\n",
    "        average_wait_time += waitTime\n",
    "        end_time = current_time + running_P.get_duration()\n",
    "        print(\n",
    "            f\"Process removed from queue is: id = {running_P.get_id()}, at time {current_time}, wait time = {wait_time} Total wait time = {average_wait_time}\")\n",
    "        print(f\"Process id = {running_P.get_id()}\"\n",
    "              f\"Priority = {running_P.get_pr()}, \"\n",
    "              f\"Arrival = {running_P.get_arrival_time()}, \"\n",
    "              f\"Duration = {running_P.get_duration()}\")\n",
    "        running = True\n",
    "\n",
    "    current_time += 1\n",
    "\n",
    "    if running and end_time == current_time:\n",
    "        print(f\"Process {running_P.get_arrival_time()} finished at time {end_time}\")\n",
    "        running = False"
   ]
  },
  {
   "cell_type": "code",
   "execution_count": null,
   "metadata": {},
   "outputs": [],
   "source": [
    "print(f\"D becomes empty at time {(current_time - 1)}\")\n"
   ]
  },
  {
   "cell_type": "code",
   "execution_count": null,
   "metadata": {},
   "outputs": [],
   "source": [
    "while Q.not_empty:\n",
    "    if running is False:\n",
    "        running_P = Q.get()\n",
    "        waitTime = current_time - running_P.get_arrival_time()\n",
    "        average_wait_time += waitTime\n",
    "        end_time = current_time + running_P.get_duration()\n",
    "        print(f\"Process removed from queue is: id = {running_P.get_id()}, at time {current_time}, wait time = {wait_time} Total wait time = {average_wait_time}\")\n",
    "        print(f\"Process id = {running_P.get_id()}\"\n",
    "              f\"Priority = {running_P.get_pr()}, \"\n",
    "              f\"Arrival = {running_P.get_arrival_time()}, \"\n",
    "              f\"Duration = {running_P.get_duration()}\")\n",
    "        running = True\n",
    "\n",
    "    current_time += 1\n",
    "    \n",
    "    if running is True and end_time == current_time:\n",
    "        print(f\"Process {running_P.get_id()} finished at time {end_time}\")\n"
   ]
  }
 ],
 "metadata": {
  "kernelspec": {
   "display_name": "Python 3.10.6 64-bit",
   "language": "python",
   "name": "python3"
  },
  "language_info": {
   "codemirror_mode": {
    "name": "ipython",
    "version": 3
   },
   "file_extension": ".py",
   "mimetype": "text/x-python",
   "name": "python",
   "nbconvert_exporter": "python",
   "pygments_lexer": "ipython3",
   "version": "3.10.6"
  },
  "orig_nbformat": 4,
  "vscode": {
   "interpreter": {
    "hash": "369f2c481f4da34e4445cda3fffd2e751bd1c4d706f27375911949ba6bb62e1c"
   }
  }
 },
 "nbformat": 4,
 "nbformat_minor": 2
}
